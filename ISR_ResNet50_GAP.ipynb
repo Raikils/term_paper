{
  "nbformat": 4,
  "nbformat_minor": 0,
  "metadata": {
    "colab": {
      "name": "ISR_ResNet50_GAP.ipynb",
      "provenance": [],
      "collapsed_sections": [],
      "authorship_tag": "ABX9TyN0lRMIe/HXfHDR8z/MLCCF",
      "include_colab_link": true
    },
    "kernelspec": {
      "name": "python3",
      "display_name": "Python 3"
    },
    "language_info": {
      "name": "python"
    },
    "accelerator": "GPU"
  },
  "cells": [
    {
      "cell_type": "markdown",
      "metadata": {
        "id": "view-in-github",
        "colab_type": "text"
      },
      "source": [
        "<a href=\"https://colab.research.google.com/github/Raikils/term_paper/blob/main/ISR_ResNet50_GAP.ipynb\" target=\"_parent\"><img src=\"https://colab.research.google.com/assets/colab-badge.svg\" alt=\"Open In Colab\"/></a>"
      ]
    },
    {
      "cell_type": "code",
      "execution_count": null,
      "metadata": {
        "id": "jTWmT4vdQzf-"
      },
      "outputs": [],
      "source": [
        "from tensorflow import keras\n",
        "from tensorflow.keras import layers\n",
        "import cv2\n",
        "import random\n",
        "import pandas as pd\n",
        "import csv\n",
        "import os\n",
        "import random"
      ]
    },
    {
      "cell_type": "code",
      "source": [
        "%tensorflow_version 2.x\n",
        "import tensorflow as tf\n",
        "device_name = tf.test.gpu_device_name()\n",
        "if device_name != '/device:GPU:0':\n",
        "  raise SystemError('GPU device not found')\n",
        "print('Found GPU at: {}'.format(device_name))"
      ],
      "metadata": {
        "id": "ZWf1ZOeERDNz"
      },
      "execution_count": null,
      "outputs": []
    },
    {
      "cell_type": "code",
      "source": [
        "!wget http://groups.csail.mit.edu/vision/LabelMe/NewImages/indoorCVPR_09.tar"
      ],
      "metadata": {
        "id": "5v2fbjFGRl-5"
      },
      "execution_count": null,
      "outputs": []
    },
    {
      "cell_type": "code",
      "source": [
        "!tar -xvf \"indoorCVPR_09.tar\""
      ],
      "metadata": {
        "id": "CQicX1EqRoYB"
      },
      "execution_count": null,
      "outputs": []
    },
    {
      "cell_type": "code",
      "source": [
        "files = os.listdir('Images')\n",
        "data = []\n",
        "for label in files:\n",
        "  data += [label + '/' + x for x in os.listdir(os.path.join('Images', label))]\n",
        "random.seed()\n",
        "data = random.sample(data, len(data))\n",
        "train_data = data[:int(len(data)*0.8)]\n",
        "test_data = data[int(len(data)*0.8):]\n",
        "valid_data = train_data[int(len(train_data)*0.8):]\n",
        "train_data = train_data[:int(len(train_data)*0.8)]"
      ],
      "metadata": {
        "id": "vgHK4b8WRtwR"
      },
      "execution_count": null,
      "outputs": []
    },
    {
      "cell_type": "code",
      "source": [
        "with open('train.csv','w',newline='') as f:\n",
        "  csvw=csv.writer(f)\n",
        "  csvw.writerow(['filename','class'])\n",
        "  for item in train_data:\n",
        "    class_name=item[:item.index('/')]\n",
        "    img_name='Images/'+item\n",
        "    csvw.writerow([img_name,class_name])\n",
        "\n",
        "with open('test.csv','w',newline='') as f:\n",
        "  csvw=csv.writer(f)\n",
        "  csvw.writerow(['filename','class'])\n",
        "  for item in test_data:\n",
        "    class_name=item[:item.index('/')]\n",
        "    img_name='Images/'+item\n",
        "    csvw.writerow([img_name,class_name])\n",
        "\n",
        "with open('valid.csv','w',newline='') as f:\n",
        "  csvw=csv.writer(f)\n",
        "  csvw.writerow(['filename','class'])\n",
        "  for item in valid_data:\n",
        "    class_name=item[:item.index('/')]\n",
        "    img_name='Images/'+item\n",
        "    csvw.writerow([img_name,class_name])"
      ],
      "metadata": {
        "id": "nhpXn4TGRwlx"
      },
      "execution_count": null,
      "outputs": []
    },
    {
      "cell_type": "code",
      "source": [
        "train_datagen = keras.preprocessing.image.ImageDataGenerator(horizontal_flip=True,vertical_flip=True\n",
        "                                                             ,zoom_range=0.2,rotation_range=360\n",
        "                                                             ,width_shift_range=0.1,height_shift_range=0.1\n",
        "                                                             ,channel_shift_range=50\n",
        "                                                             ,brightness_range=(0,1.2)\n",
        "                                                             ,preprocessing_function=keras.applications.imagenet_utils.preprocess_input)\n",
        "\n",
        "valid_datagen = keras.preprocessing.image.ImageDataGenerator(preprocessing_function=keras.applications.imagenet_utils.preprocess_input)\n",
        "test_datagen = keras.preprocessing.image.ImageDataGenerator(preprocessing_function=keras.applications.imagenet_utils.preprocess_input)\n",
        "\n",
        "train_df = pd.read_csv(\"train.csv\")\n",
        "test_df = pd.read_csv(\"test.csv\")\n",
        "valid_df = pd.read_csv(\"valid.csv\")"
      ],
      "metadata": {
        "id": "TwO20mdXR24p"
      },
      "execution_count": null,
      "outputs": []
    },
    {
      "cell_type": "code",
      "source": [
        "batch_size=50\n",
        "train_generator = train_datagen.flow_from_dataframe(\n",
        "      dataframe=train_df,\n",
        "      directory='.',\n",
        "      x_col=\"filename\",\n",
        "      y_col=\"class\",\n",
        "      target_size=(224, 224),\n",
        "      batch_size=batch_size,\n",
        "      class_mode='categorical',shuffle=True)\n",
        "test_generator = test_datagen.flow_from_dataframe(\n",
        "        dataframe=test_df,\n",
        "        directory='.',\n",
        "        x_col=\"filename\",\n",
        "        y_col=\"class\",\n",
        "        target_size=(224, 224),\n",
        "        batch_size=batch_size,\n",
        "        class_mode='categorical',shuffle=True)\n",
        "\n",
        "valid_generator = valid_datagen.flow_from_dataframe(\n",
        "        dataframe=valid_df,\n",
        "        directory='.',\n",
        "        x_col=\"filename\",\n",
        "        y_col=\"class\",\n",
        "        target_size=(224, 224),\n",
        "        batch_size=batch_size,\n",
        "        class_mode='categorical',shuffle=True)\n",
        "train_img_num=len(train_generator.filenames)"
      ],
      "metadata": {
        "id": "zQ_5xSw9R5EJ"
      },
      "execution_count": null,
      "outputs": []
    },
    {
      "cell_type": "code",
      "source": [
        "keras.backend.clear_session()\n",
        "shape=(224,224,3) \n",
        "input_tensor=keras.Input(shape=shape)\n",
        "base_model=keras.applications.ResNet50(input_tensor=input_tensor,weights=\"imagenet\",include_top=False)\n",
        "avg=keras.layers.GlobalAveragePooling2D()(base_model.output)\n",
        "preds=keras.layers.Dense(67,activation='softmax',\n",
        "                          kernel_initializer=keras.initializers.RandomNormal(mean=0.0,stddev=0.01),\n",
        "                          bias_initializer=keras.initializers.Zeros(),)(avg)\n",
        "model=keras.Model(inputs=base_model.input, outputs=preds)  \n",
        "for layer in model.layers:\n",
        "  layer.trainable = True\n",
        "model.summary()"
      ],
      "metadata": {
        "id": "A2ZLecTvR7Sh"
      },
      "execution_count": null,
      "outputs": []
    },
    {
      "cell_type": "code",
      "source": [
        "name = 'ResNet50_GAP'"
      ],
      "metadata": {
        "id": "0cWFxkjrxaxN"
      },
      "execution_count": null,
      "outputs": []
    },
    {
      "cell_type": "code",
      "source": [
        "!mkdir \"models\"\n",
        "filepath=\"models/%s-{epoch:02d}-{val_accuracy:.4f}.hdf5\"%name\n",
        "checkpoint = keras.callbacks.ModelCheckpoint(filepath, monitor='val_accuracy', save_best_only=True, mode='max')\n",
        "callbacks_list = [checkpoint]"
      ],
      "metadata": {
        "id": "PEE_BzVXSM_B"
      },
      "execution_count": null,
      "outputs": []
    },
    {
      "cell_type": "code",
      "source": [
        "from google.colab import drive\n",
        "drive.mount('/content/gdrive')"
      ],
      "metadata": {
        "id": "6_zggm4XxaIA"
      },
      "execution_count": null,
      "outputs": []
    },
    {
      "cell_type": "code",
      "source": [
        "filepath=\"gdrive/MyDrive/data/models/%s-{epoch:02d}-{val_accuracy:.4f}.hdf5\"%name\n",
        "checkpoint = keras.callbacks.ModelCheckpoint(filepath, monitor='val_accuracy', save_best_only=True, mode='max')\n",
        "callbacks_list = [checkpoint]"
      ],
      "metadata": {
        "id": "zavDoapTxgl2"
      },
      "execution_count": null,
      "outputs": []
    },
    {
      "cell_type": "code",
      "source": [
        "optimizer=keras.optimizers.SGD(momentum=0.9,learning_rate=0.01)\n",
        "model.compile(optimizer=optimizer, loss='categorical_crossentropy',metrics=['accuracy'])"
      ],
      "metadata": {
        "id": "7hSuAfwqSa1Z"
      },
      "execution_count": null,
      "outputs": []
    },
    {
      "cell_type": "code",
      "source": [
        "model.fit_generator(train_generator, epochs=80,shuffle=True,callbacks=callbacks_list, validation_data=valid_generator)"
      ],
      "metadata": {
        "id": "6YAf-u2QS7eZ"
      },
      "execution_count": null,
      "outputs": []
    },
    {
      "cell_type": "code",
      "source": [
        "model.evaluate_generator(test_generator)"
      ],
      "metadata": {
        "id": "C4d_52AkyEK-"
      },
      "execution_count": null,
      "outputs": []
    }
  ]
}